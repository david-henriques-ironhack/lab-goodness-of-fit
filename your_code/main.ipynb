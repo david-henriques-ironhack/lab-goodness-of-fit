{
 "cells": [
  {
   "cell_type": "markdown",
   "metadata": {},
   "source": [
    "## Question 1\n",
    "A researcher gathers information about the patterns of Physical Activity of children in the fifth grade of primary school of a public school. He defines three categories of physical activity (Low, Medium, High). He also inquires about the regular consumption of sugary drinks at school, and defines two categories (Yes = consumed, No = not consumed). We would like to evaluate if there is an association between patterns of physical activity and the consumption of sugary drinks for the children of this school, at a level of 5% significance. The results are in the following table: \n",
    "\n",
    "![](table4.png)"
   ]
  },
  {
   "cell_type": "code",
   "execution_count": 1,
   "metadata": {},
   "outputs": [
    {
     "name": "stdout",
     "output_type": "stream",
     "text": [
      "Chi-Square Statistic: 10.712198008709638\n",
      "P-value: 0.004719280137040844\n",
      "Degrees of Freedom: 2\n",
      "Expected Frequencies Table:\n",
      "[[24.08421053 19.91578947]\n",
      " [19.70526316 16.29473684]\n",
      " [ 8.21052632  6.78947368]]\n",
      "Reject the null hypothesis: There is a significant association between physical activity and sugary drink consumption.\n"
     ]
    }
   ],
   "source": [
    "import numpy as np\n",
    "from scipy.stats import chi2_contingency\n",
    "\n",
    "# Contingency table \n",
    "data = np.array([[32, 12],  # Low Physical Activity\n",
    "                 [14, 22],  # Medium Physical Activity\n",
    "                 [6, 9]])   # High Physical Activity\n",
    "\n",
    "# Perform Chi-Square test of independence\n",
    "chi2, p, dof, expected = chi2_contingency(data)\n",
    "\n",
    "# Output the results\n",
    "print(f\"Chi-Square Statistic: {chi2}\")\n",
    "print(f\"P-value: {p}\")\n",
    "print(f\"Degrees of Freedom: {dof}\")\n",
    "print(\"Expected Frequencies Table:\")\n",
    "print(expected)\n",
    "\n",
    "# Decision based on p-value\n",
    "alpha = 0.05  # 5% significance level\n",
    "if p < alpha:\n",
    "    print(\"Reject the null hypothesis: There is a significant association between physical activity and sugary drink consumption.\")\n",
    "else:\n",
    "    print(\"Fail to reject the null hypothesis: There is no significant association between physical activity and sugary drink consumption.\")"
   ]
  },
  {
   "cell_type": "markdown",
   "metadata": {},
   "source": [
    "## [OPTIONAL] Question 2\n",
    "The following table indicates the number of 6-point scores in an American rugby match in the 1979 season.\n",
    "\n",
    "![](table1.png)\n",
    "\n",
    "Based on these results, we create a Poisson distribution with the sample mean parameter  = 2.435. Is there any reason to believe that at a .05 level the number of scores is a Poisson variable?\n",
    "\n",
    "Check [here](https://www.geeksforgeeks.org/how-to-create-a-poisson-probability-mass-function-plot-in-python/) how to create a poisson distribution and how to calculate the expected observations, using the probability mass function (pmf). \n",
    "A Poisson distribution is a discrete probability distribution. It gives the probability of an event happening a certain number of times (k) within a given interval of time or space. The Poisson distribution has only one parameter, λ (lambda), which is the mean number of events."
   ]
  },
  {
   "cell_type": "code",
   "execution_count": 2,
   "metadata": {},
   "outputs": [
    {
     "name": "stdout",
     "output_type": "stream",
     "text": [
      "Chi-Square Statistic: 6.491310681109786\n",
      "P-value: 0.4836889068537311\n",
      "Fail to reject the null hypothesis: The data follows a Poisson distribution.\n"
     ]
    }
   ],
   "source": [
    "from scipy.stats import poisson, chisquare\n",
    "\n",
    "# Given data: Number of scores and corresponding number of times\n",
    "observed = [35, 99, 104, 110, 62, 25, 10, 3]  # Last value is for 7 or more scores\n",
    "total_observations = 448  # Total number of observations\n",
    "lambda_value = 2.435  # Given Poisson mean (lambda)\n",
    "\n",
    "# Calculate the expected frequencies using Poisson distribution\n",
    "expected = []\n",
    "for i in range(7):  # For scores 0 to 6\n",
    "    expected.append(poisson.pmf(i, lambda_value) * total_observations)\n",
    "\n",
    "# Combine the probabilities for \"7 or more\" into one category\n",
    "expected_7_or_more = (1 - poisson.cdf(6, lambda_value)) * total_observations\n",
    "expected.append(expected_7_or_more)\n",
    "\n",
    "# Perform the Chi-Square test\n",
    "chi2_stat, p_value = chisquare(f_obs=observed, f_exp=expected)\n",
    "\n",
    "# Output the results\n",
    "print(f\"Chi-Square Statistic: {chi2_stat}\")\n",
    "print(f\"P-value: {p_value}\")\n",
    "\n",
    "# Decision based on p-value\n",
    "alpha = 0.05  # 5% significance level\n",
    "if p_value < alpha:\n",
    "    print(\"Reject the null hypothesis: The data does not follow a Poisson distribution.\")\n",
    "else:\n",
    "    print(\"Fail to reject the null hypothesis: The data follows a Poisson distribution.\")"
   ]
  },
  {
   "cell_type": "code",
   "execution_count": null,
   "metadata": {},
   "outputs": [],
   "source": []
  }
 ],
 "metadata": {
  "kernelspec": {
   "display_name": "Python 3",
   "language": "python",
   "name": "python3"
  },
  "language_info": {
   "codemirror_mode": {
    "name": "ipython",
    "version": 3
   },
   "file_extension": ".py",
   "mimetype": "text/x-python",
   "name": "python",
   "nbconvert_exporter": "python",
   "pygments_lexer": "ipython3",
   "version": "3.12.4"
  }
 },
 "nbformat": 4,
 "nbformat_minor": 2
}
