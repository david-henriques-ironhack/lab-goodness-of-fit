{
  "cells": [
    {
      "cell_type": "markdown",
      "metadata": {
        "id": "qefk2s6rU8AU"
      },
      "source": [
        "## Question 1\n",
        "A researcher gathers information about the patterns of Physical Activity of children in the fifth grade of primary school of a public school. He defines three categories of physical activity (Low, Medium, High). He also inquires about the regular consumption of sugary drinks at school, and defines two categories (Yes = consumed, No = not consumed). We would like to evaluate if there is an association between patterns of physical activity and the consumption of sugary drinks for the children of this school, at a level of 5% significance. The results are in the following table:\n",
        "\n",
        "![](table4.png)"
      ]
    },
    {
      "cell_type": "code",
      "execution_count": 5,
      "metadata": {
        "colab": {
          "base_uri": "https://localhost:8080/"
        },
        "id": "aalOMBtKU8AW",
        "outputId": "252f647d-e805-4f4b-cca1-3cb7e3379955"
      },
      "outputs": [
        {
          "output_type": "stream",
          "name": "stdout",
          "text": [
            "Chi-Square Statistic: 10.712198008709638\n",
            "P-value: 0.004719280137040844\n",
            "Degrees of Freedom: 2\n",
            "Expected Frequencies:\n",
            "[[24.08421053 19.91578947]\n",
            " [19.70526316 16.29473684]\n",
            " [ 8.21052632  6.78947368]]\n"
          ]
        }
      ],
      "source": [
        "import pandas as pd\n",
        "from scipy.stats import chi2_contingency\n",
        "\n",
        "children_data = [[32, 12],  # Low Physical Activity\n",
        "                [14, 22],  # Medium Physical Activity\n",
        "                [6, 9]]    # High Physical Activity\n",
        "\n",
        "df = pd.DataFrame(children_data, columns=['Sugary - Yes', 'Sugary - No'],\n",
        "                  index=['Low', 'Medium', 'High'])\n",
        "\n",
        "chi2, p, dof, expected = chi2_contingency(df)\n",
        "\n",
        "print(f\"Chi-Square Statistic: {chi2}\")\n",
        "print(f\"P-value: {p}\")\n",
        "print(f\"Degrees of Freedom: {dof}\")\n",
        "print(\"Expected Frequencies:\")\n",
        "print(expected)\n",
        "\n",
        "#P-value is lower than 0.05. That means that there's a significant association between physical activity and sugary drink\n"
      ]
    },
    {
      "cell_type": "markdown",
      "metadata": {
        "id": "KuCw5ea3U8AW"
      },
      "source": [
        "## [OPTIONAL] Question 2\n",
        "The following table indicates the number of 6-point scores in an American rugby match in the 1979 season.\n",
        "\n",
        "![](table1.png)\n",
        "\n",
        "Based on these results, we create a Poisson distribution with the sample mean parameter  = 2.435. Is there any reason to believe that at a .05 level the number of scores is a Poisson variable?\n",
        "\n",
        "Check [here](https://www.geeksforgeeks.org/how-to-create-a-poisson-probability-mass-function-plot-in-python/) how to create a poisson distribution and how to calculate the expected observations, using the probability mass function (pmf).\n",
        "A Poisson distribution is a discrete probability distribution. It gives the probability of an event happening a certain number of times (k) within a given interval of time or space. The Poisson distribution has only one parameter, λ (lambda), which is the mean number of events."
      ]
    },
    {
      "cell_type": "code",
      "execution_count": null,
      "metadata": {
        "id": "RY3nFuApU8AX"
      },
      "outputs": [],
      "source": [
        "# your answer here"
      ]
    }
  ],
  "metadata": {
    "kernelspec": {
      "display_name": "Python 3",
      "language": "python",
      "name": "python3"
    },
    "language_info": {
      "codemirror_mode": {
        "name": "ipython",
        "version": 3
      },
      "file_extension": ".py",
      "mimetype": "text/x-python",
      "name": "python",
      "nbconvert_exporter": "python",
      "pygments_lexer": "ipython3",
      "version": "3.8.3"
    },
    "colab": {
      "provenance": []
    }
  },
  "nbformat": 4,
  "nbformat_minor": 0
}