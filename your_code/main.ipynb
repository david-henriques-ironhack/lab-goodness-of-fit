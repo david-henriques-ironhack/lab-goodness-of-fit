{
 "cells": [
  {
   "cell_type": "markdown",
   "metadata": {},
   "source": [
    "## Question 1\n",
    "A researcher gathers information about the patterns of Physical Activity of children in the fifth grade of primary school of a public school. He defines three categories of physical activity (Low, Medium, High). He also inquires about the regular consumption of sugary drinks at school, and defines two categories (Yes = consumed, No = not consumed). We would like to evaluate if there is an association between patterns of physical activity and the consumption of sugary drinks for the children of this school, at a level of 5% significance. The results are in the following table: \n",
    "\n",
    "![](table4.png)"
   ]
  },
  {
   "cell_type": "code",
   "execution_count": 15,
   "metadata": {},
   "outputs": [
    {
     "name": "stdout",
     "output_type": "stream",
     "text": [
      "Chi-Square Statistic: 10.712198008709638\n",
      "Degrees of Freedom: 2\n",
      "Expected Frequencies:\n",
      "[[24.08421053 19.91578947]\n",
      " [19.70526316 16.29473684]\n",
      " [ 8.21052632  6.78947368]]\n",
      "P-Value (from chi2_contingency): 0.004719280137040844\n",
      "Reject the null hypothesis: There is a significant association between patterns of physical activity and the consumption of sugary drinks for the children of this school\n"
     ]
    }
   ],
   "source": [
    "#1. State the Hypothesis\n",
    "#Null Hypothesis (Ho): There is no association between physical activity patterns and sugary drink consumption.\n",
    "#Alternative Hypothesis (Ha): There is an association between physical activity patterns and sugary drink consumption.\n",
    "\n",
    "import numpy as np\n",
    "from scipy.stats import chi2_contingency, chi2\n",
    "\n",
    "#observed data \n",
    "data = np.array ([\n",
    "    [32, 12], #low\n",
    "    [14, 22], #Medium\n",
    "    [6, 9] #high\n",
    "])\n",
    "\n",
    "# Perform Chi-Square Test of Independence\n",
    "chi2_stat, p_value, dof, expected = chi2_contingency(data)\n",
    "\n",
    "# Display the results\n",
    "print(\"Chi-Square Statistic:\", chi2_stat)\n",
    "print(\"Degrees of Freedom:\", dof)\n",
    "print(\"Expected Frequencies:\")\n",
    "print(expected)\n",
    "print(\"P-Value (from chi2_contingency):\", p_value)\n",
    "\n",
    "# Conclusion\n",
    "alpha = 0.05\n",
    "if p_value < alpha:\n",
    "    print(\"Reject the null hypothesis: There is a significant association between patterns of physical activity and the consumption of sugary drinks for the children of this school\")\n",
    "else:\n",
    "    print(\"Fail to reject the null hypothesis: No significant association between patterns of physical activity and the consumption of sugary drinks for the children of this school.\")"
   ]
  },
  {
   "cell_type": "markdown",
   "metadata": {},
   "source": [
    "## [OPTIONAL] Question 2\n",
    "The following table indicates the number of 6-point scores in an American rugby match in the 1979 season.\n",
    "\n",
    "![](table1.png)\n",
    "\n",
    "Based on these results, we create a Poisson distribution with the sample mean parameter  = 2.435. Is there any reason to believe that at a .05 level the number of scores is a Poisson variable?\n",
    "\n",
    "Check [here](https://www.geeksforgeeks.org/how-to-create-a-poisson-probability-mass-function-plot-in-python/) how to create a poisson distribution and how to calculate the expected observations, using the probability mass function (pmf). \n",
    "A Poisson distribution is a discrete probability distribution. It gives the probability of an event happening a certain number of times (k) within a given interval of time or space. The Poisson distribution has only one parameter, λ (lambda), which is the mean number of events."
   ]
  },
  {
   "cell_type": "code",
   "execution_count": 25,
   "metadata": {},
   "outputs": [
    {
     "name": "stdout",
     "output_type": "stream",
     "text": [
      "  Number of Scores  Observed    Expected  Chi-Square\n",
      "0                0        35   39.243791    0.458920\n",
      "1                1        99   95.558630    0.123935\n",
      "2                2       104  116.342632    1.309413\n",
      "3                3       110   94.431437    2.566732\n",
      "4                4        62   57.485137    0.354596\n",
      "5                5        25   27.995262    0.320468\n",
      "6                6        10   11.361410    0.163135\n",
      "7        7 or more         3    5.581701    1.194113\n",
      "Chi-Square Statistic: 6.491310681109779\n",
      "Degrees of Freedom: 6\n",
      "P-Value: 0.37045709484106654\n",
      "Fail to reject the null hypothesis: The data follows a Poisson distribution.\n"
     ]
    }
   ],
   "source": [
    "#1 State the hypotesis\n",
    "#Null Hypothesis (Ho): The observed number of scores follows a Poisson distribution with 𝜆 = 2.435\n",
    "#Alternative Hypothesis (Ha): The observed number of scores does not follow a Poisson distribution with 𝜆 = 2.435\n",
    "import math\n",
    "import pandas as pd\n",
    "from scipy.stats import chi2\n",
    "\n",
    "# Given data\n",
    "observed_data = [35, 99, 104, 110, 62, 25, 10, 3]  # Last value includes \"7 or more\"\n",
    "total_observations = 448\n",
    "mean_lambda = 2.435\n",
    "\n",
    "expected_data = []\n",
    "for k in range(len(observed_data) - 1):  # For 0 to 6\n",
    "    poisson_prob = (mean_lambda**k * math.exp(-mean_lambda)) / math.factorial(k)\n",
    "    expected_data.append(poisson_prob * total_observations)\n",
    "\n",
    "# Group \"7 or more\"\n",
    "poisson_prob_tail = 1 - sum((mean_lambda**j * math.exp(-mean_lambda)) / math.factorial(j) for j in range(7))\n",
    "expected_data.append(poisson_prob_tail * total_observations)\n",
    "\n",
    "# Combine data into a DataFrame for better visualization\n",
    "df = pd.DataFrame({\n",
    "    \"Number of Scores\": [\"0\", \"1\", \"2\", \"3\", \"4\", \"5\", \"6\" , \"7 or more\"],\n",
    "    \"Observed\": observed_data,\n",
    "    \"Expected\": expected_data\n",
    "})\n",
    "\n",
    "# Calculate chi-square statistic\n",
    "df[\"Chi-Square\"] = (df[\"Observed\"] - df[\"Expected\"])**2 / df[\"Expected\"]\n",
    "chi_square_stat = df[\"Chi-Square\"].sum()\n",
    "\n",
    "# Degrees of freedom\n",
    "degrees_of_freedom = len(df) - 1 - 1  # Categories - 1 - Estimated Parameter (mean)\n",
    "\n",
    "# p-value\n",
    "p_value = chi2.sf(chi_square_stat, degrees_of_freedom)\n",
    "\n",
    "# Display results\n",
    "print(df)\n",
    "print(f\"Chi-Square Statistic: {chi_square_stat}\")\n",
    "print(f\"Degrees of Freedom: {degrees_of_freedom}\")\n",
    "print(f\"P-Value: {p_value}\")\n",
    "\n",
    "# Conclusion\n",
    "alpha = 0.05\n",
    "if p_value < alpha:\n",
    "    print(\"Reject the null hypothesis: The data does not follow a Poisson distribution.\")\n",
    "else:\n",
    "    print(\"Fail to reject the null hypothesis: The data follows a Poisson distribution.\")\n"
   ]
  },
  {
   "cell_type": "code",
   "execution_count": null,
   "metadata": {},
   "outputs": [],
   "source": []
  }
 ],
 "metadata": {
  "kernelspec": {
   "display_name": "Python 3 (ipykernel)",
   "language": "python",
   "name": "python3"
  },
  "language_info": {
   "codemirror_mode": {
    "name": "ipython",
    "version": 3
   },
   "file_extension": ".py",
   "mimetype": "text/x-python",
   "name": "python",
   "nbconvert_exporter": "python",
   "pygments_lexer": "ipython3",
   "version": "3.11.5"
  }
 },
 "nbformat": 4,
 "nbformat_minor": 4
}
