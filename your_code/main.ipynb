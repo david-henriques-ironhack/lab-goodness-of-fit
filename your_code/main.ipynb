{
 "cells": [
  {
   "cell_type": "markdown",
   "metadata": {},
   "source": [
    "## Question 1\n",
    "A researcher gathers information about the patterns of Physical Activity of children in the fifth grade of primary school of a public school. He defines three categories of physical activity (Low, Medium, High). He also inquires about the regular consumption of sugary drinks at school, and defines two categories (Yes = consumed, No = not consumed). We would like to evaluate if there is an association between patterns of physical activity and the consumption of sugary drinks for the children of this school, at a level of 5% significance. The results are in the following table: \n",
    "\n",
    "![](table4.png)"
   ]
  },
  {
   "cell_type": "code",
   "execution_count": 3,
   "metadata": {},
   "outputs": [
    {
     "name": "stdout",
     "output_type": "stream",
     "text": [
      "Chi-Square Statistic: 10.712198008709638\n",
      "p-value: 0.004719280137040844\n",
      "Degrees of Freedom: 2\n",
      "Expected Frequencies:\n",
      " [[24.08421053 19.91578947]\n",
      " [19.70526316 16.29473684]\n",
      " [ 8.21052632  6.78947368]]\n",
      "There is a significant association between physical activity and sugary drink consumption (reject H0).\n"
     ]
    }
   ],
   "source": [
    "import numpy as np\n",
    "from scipy.stats import chi2_contingency\n",
    "\n",
    "# Create the contingency table based on the data provided\n",
    "# Rows represent Physical Activity levels (Low, Medium, High)\n",
    "# Columns represent Sugary Drink Consumption (Yes, No)\n",
    "observed = np.array([\n",
    "    [32, 12],  # Low\n",
    "    [14, 22],  # Medium\n",
    "    [6, 9]     # High\n",
    "])\n",
    "\n",
    "# Perform the Chi-Square test\n",
    "chi2_stat, p_value, dof, expected = chi2_contingency(observed)\n",
    "\n",
    "# Display the results\n",
    "print(\"Chi-Square Statistic:\", chi2_stat)\n",
    "print(\"p-value:\", p_value)\n",
    "print(\"Degrees of Freedom:\", dof)\n",
    "print(\"Expected Frequencies:\\n\", expected)\n",
    "\n",
    "# Interpretation\n",
    "alpha = 0.05\n",
    "if p_value < alpha:\n",
    "    print(\"There is a significant association between physical activity and sugary drink consumption (reject H0).\")\n",
    "else:\n",
    "    print(\"No significant association between physical activity and sugary drink consumption (fail to reject H0).\")\n"
   ]
  },
  {
   "cell_type": "markdown",
   "metadata": {},
   "source": [
    "## [OPTIONAL] Question 2\n",
    "The following table indicates the number of 6-point scores in an American rugby match in the 1979 season.\n",
    "\n",
    "![](table1.png)\n",
    "\n",
    "Based on these results, we create a Poisson distribution with the sample mean parameter  = 2.435. Is there any reason to believe that at a .05 level the number of scores is a Poisson variable?\n",
    "\n",
    "Check [here](https://www.geeksforgeeks.org/how-to-create-a-poisson-probability-mass-function-plot-in-python/) how to create a poisson distribution and how to calculate the expected observations, using the probability mass function (pmf). \n",
    "A Poisson distribution is a discrete probability distribution. It gives the probability of an event happening a certain number of times (k) within a given interval of time or space. The Poisson distribution has only one parameter, λ (lambda), which is the mean number of events."
   ]
  },
  {
   "cell_type": "code",
   "execution_count": null,
   "metadata": {},
   "outputs": [],
   "source": [
    "\n"
   ]
  }
 ],
 "metadata": {
  "kernelspec": {
   "display_name": "Python 3",
   "language": "python",
   "name": "python3"
  },
  "language_info": {
   "codemirror_mode": {
    "name": "ipython",
    "version": 3
   },
   "file_extension": ".py",
   "mimetype": "text/x-python",
   "name": "python",
   "nbconvert_exporter": "python",
   "pygments_lexer": "ipython3",
   "version": "3.12.7"
  }
 },
 "nbformat": 4,
 "nbformat_minor": 2
}
